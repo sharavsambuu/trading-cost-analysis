{
 "cells": [
  {
   "cell_type": "code",
   "execution_count": 1,
   "metadata": {},
   "outputs": [],
   "source": [
    "import warnings\n",
    "warnings.filterwarnings(\"ignore\")\n",
    "def action_with_warnings():\n",
    "    warnings.warn(\"should not appear\")\n",
    "with warnings.catch_warnings(record=True):\n",
    "    action_with_warnings()\n",
    "import os\n",
    "import sys\n",
    "import csv\n",
    "import talib\n",
    "from   scipy.stats       import norm\n",
    "import numpy             as np\n",
    "import pandas            as pd\n",
    "import matplotlib.pyplot as plt\n",
    "import mplfinance        as mpf"
   ]
  },
  {
   "cell_type": "code",
   "execution_count": 2,
   "metadata": {},
   "outputs": [],
   "source": [
    "eurusd_df_ = pd.read_csv(\"./data/EURUSD.csv\", parse_dates=True, index_col=\"datetime\")"
   ]
  },
  {
   "cell_type": "code",
   "execution_count": 3,
   "metadata": {},
   "outputs": [
    {
     "data": {
      "text/plain": [
       "<Axes: >"
      ]
     },
     "execution_count": 3,
     "metadata": {},
     "output_type": "execute_result"
    },
    {
     "data": {
      "image/png": "[encoded data removed]",
      "text/plain": [
       "<Figure size 640x480 with 1 Axes>"
      ]
     },
     "metadata": {},
     "output_type": "display_data"
    }
   ],
   "source": [
    "eurusd_df_[\"2020-01-01\":]['Spread'].hist(bins=250, range=(0, 60))"
   ]
  },
  {
   "cell_type": "code",
   "execution_count": 4,
   "metadata": {},
   "outputs": [],
   "source": [
    "# rolling averages of spreads\n",
    "window = 4*60 # 4 hours rolling\n",
    "eurusd_df_['average_spread'] = eurusd_df_['Spread'].rolling(window=window).mean()"
   ]
  },
  {
   "cell_type": "code",
   "execution_count": 5,
   "metadata": {},
   "outputs": [],
   "source": [
    "timeframe_by_hours  = 4\n",
    "timeframe_by_minute = timeframe_by_hours*60"
   ]
  },
  {
   "cell_type": "code",
   "execution_count": 6,
   "metadata": {},
   "outputs": [],
   "source": [
    "timeframe = f\"{timeframe_by_minute}Min\"\n",
    "\n",
    "eurusd_df = eurusd_df_.resample(timeframe).agg({'Open':'first', 'High':'max', 'Low':'min', 'Close':'last', 'Volume': 'sum', 'average_spread':'last'})\n",
    "eurusd_df.rename(columns={\"average_spread\": \"Spread\"}, inplace=True)\n",
    "eurusd_df.dropna(inplace=True) # Dropping because of FX doesn't trade during weekends"
   ]
  },
  {
   "cell_type": "code",
   "execution_count": 7,
   "metadata": {},
   "outputs": [
    {
     "data": {
      "text/html": [
       "<div>\n",
       "<style scoped>\n",
       "    .dataframe tbody tr th:only-of-type {\n",
       "        vertical-align: middle;\n",
       "    }\n",
       "\n",
       "    .dataframe tbody tr th {\n",
       "        vertical-align: top;\n",
       "    }\n",
       "\n",
       "    .dataframe thead th {\n",
       "        text-align: right;\n",
       "    }\n",
       "</style>\n",
       "<table border=\"1\" class=\"dataframe\">\n",
       "  <thead>\n",
       "    <tr style=\"text-align: right;\">\n",
       "      <th></th>\n",
       "      <th>Open</th>\n",
       "      <th>High</th>\n",
       "      <th>Low</th>\n",
       "      <th>Close</th>\n",
       "      <th>Volume</th>\n",
       "      <th>Spread</th>\n",
       "    </tr>\n",
       "    <tr>\n",
       "      <th>datetime</th>\n",
       "      <th></th>\n",
       "      <th></th>\n",
       "      <th></th>\n",
       "      <th></th>\n",
       "      <th></th>\n",
       "      <th></th>\n",
       "    </tr>\n",
       "  </thead>\n",
       "  <tbody>\n",
       "    <tr>\n",
       "      <th>2009-10-20 08:00:00+00:00</th>\n",
       "      <td>1.49855</td>\n",
       "      <td>1.49866</td>\n",
       "      <td>1.49540</td>\n",
       "      <td>1.49677</td>\n",
       "      <td>10690</td>\n",
       "      <td>13.933333</td>\n",
       "    </tr>\n",
       "    <tr>\n",
       "      <th>2009-10-20 12:00:00+00:00</th>\n",
       "      <td>1.49680</td>\n",
       "      <td>1.49900</td>\n",
       "      <td>1.49237</td>\n",
       "      <td>1.49425</td>\n",
       "      <td>13252</td>\n",
       "      <td>14.566667</td>\n",
       "    </tr>\n",
       "    <tr>\n",
       "      <th>2009-10-20 16:00:00+00:00</th>\n",
       "      <td>1.49426</td>\n",
       "      <td>1.49452</td>\n",
       "      <td>1.48823</td>\n",
       "      <td>1.49265</td>\n",
       "      <td>10517</td>\n",
       "      <td>13.920833</td>\n",
       "    </tr>\n",
       "    <tr>\n",
       "      <th>2009-10-20 20:00:00+00:00</th>\n",
       "      <td>1.49264</td>\n",
       "      <td>1.49451</td>\n",
       "      <td>1.49161</td>\n",
       "      <td>1.49358</td>\n",
       "      <td>4325</td>\n",
       "      <td>17.191667</td>\n",
       "    </tr>\n",
       "    <tr>\n",
       "      <th>2009-10-21 00:00:00+00:00</th>\n",
       "      <td>1.49356</td>\n",
       "      <td>1.49359</td>\n",
       "      <td>1.48879</td>\n",
       "      <td>1.49132</td>\n",
       "      <td>7009</td>\n",
       "      <td>16.629167</td>\n",
       "    </tr>\n",
       "    <tr>\n",
       "      <th>...</th>\n",
       "      <td>...</td>\n",
       "      <td>...</td>\n",
       "      <td>...</td>\n",
       "      <td>...</td>\n",
       "      <td>...</td>\n",
       "      <td>...</td>\n",
       "    </tr>\n",
       "    <tr>\n",
       "      <th>2023-10-13 12:00:00+00:00</th>\n",
       "      <td>1.05244</td>\n",
       "      <td>1.05471</td>\n",
       "      <td>1.04950</td>\n",
       "      <td>1.05002</td>\n",
       "      <td>20812</td>\n",
       "      <td>9.000000</td>\n",
       "    </tr>\n",
       "    <tr>\n",
       "      <th>2023-10-13 16:00:00+00:00</th>\n",
       "      <td>1.05004</td>\n",
       "      <td>1.05156</td>\n",
       "      <td>1.04992</td>\n",
       "      <td>1.05133</td>\n",
       "      <td>9189</td>\n",
       "      <td>9.000000</td>\n",
       "    </tr>\n",
       "    <tr>\n",
       "      <th>2023-10-13 20:00:00+00:00</th>\n",
       "      <td>1.05133</td>\n",
       "      <td>1.05136</td>\n",
       "      <td>1.05053</td>\n",
       "      <td>1.05065</td>\n",
       "      <td>949</td>\n",
       "      <td>9.000000</td>\n",
       "    </tr>\n",
       "    <tr>\n",
       "      <th>2023-10-15 20:00:00+00:00</th>\n",
       "      <td>1.05063</td>\n",
       "      <td>1.05251</td>\n",
       "      <td>1.05007</td>\n",
       "      <td>1.05216</td>\n",
       "      <td>2163</td>\n",
       "      <td>18.362500</td>\n",
       "    </tr>\n",
       "    <tr>\n",
       "      <th>2023-10-16 00:00:00+00:00</th>\n",
       "      <td>1.05218</td>\n",
       "      <td>1.05255</td>\n",
       "      <td>1.05153</td>\n",
       "      <td>1.05222</td>\n",
       "      <td>4272</td>\n",
       "      <td>8.962500</td>\n",
       "    </tr>\n",
       "  </tbody>\n",
       "</table>\n",
       "<p>23041 rows × 6 columns</p>\n",
       "</div>"
      ],
      "text/plain": [
       "                              Open     High      Low    Close  Volume  \\\n",
       "datetime                                                                \n",
       "2009-10-20 08:00:00+00:00  1.49855  1.49866  1.49540  1.49677   10690   \n",
       "2009-10-20 12:00:00+00:00  1.49680  1.49900  1.49237  1.49425   13252   \n",
       "2009-10-20 16:00:00+00:00  1.49426  1.49452  1.48823  1.49265   10517   \n",
       "2009-10-20 20:00:00+00:00  1.49264  1.49451  1.49161  1.49358    4325   \n",
       "2009-10-21 00:00:00+00:00  1.49356  1.49359  1.48879  1.49132    7009   \n",
       "...                            ...      ...      ...      ...     ...   \n",
       "2023-10-13 12:00:00+00:00  1.05244  1.05471  1.04950  1.05002   20812   \n",
       "2023-10-13 16:00:00+00:00  1.05004  1.05156  1.04992  1.05133    9189   \n",
       "2023-10-13 20:00:00+00:00  1.05133  1.05136  1.05053  1.05065     949   \n",
       "2023-10-15 20:00:00+00:00  1.05063  1.05251  1.05007  1.05216    2163   \n",
       "2023-10-16 00:00:00+00:00  1.05218  1.05255  1.05153  1.05222    4272   \n",
       "\n",
       "                              Spread  \n",
       "datetime                              \n",
       "2009-10-20 08:00:00+00:00  13.933333  \n",
       "2009-10-20 12:00:00+00:00  14.566667  \n",
       "2009-10-20 16:00:00+00:00  13.920833  \n",
       "2009-10-20 20:00:00+00:00  17.191667  \n",
       "2009-10-21 00:00:00+00:00  16.629167  \n",
       "...                              ...  \n",
       "2023-10-13 12:00:00+00:00   9.000000  \n",
       "2023-10-13 16:00:00+00:00   9.000000  \n",
       "2023-10-13 20:00:00+00:00   9.000000  \n",
       "2023-10-15 20:00:00+00:00  18.362500  \n",
       "2023-10-16 00:00:00+00:00   8.962500  \n",
       "\n",
       "[23041 rows x 6 columns]"
      ]
     },
     "execution_count": 7,
     "metadata": {},
     "output_type": "execute_result"
    }
   ],
   "source": [
    "eurusd_df"
   ]
  },
  {
   "cell_type": "code",
   "execution_count": 12,
   "metadata": {},
   "outputs": [
    {
     "data": {
      "text/plain": [
       "<Axes: >"
      ]
     },
     "execution_count": 12,
     "metadata": {},
     "output_type": "execute_result"
    },
    {
     "data": {
      "image/png": "[encoded data removed]",
      "text/plain": [
       "<Figure size 640x480 with 1 Axes>"
      ]
     },
     "metadata": {},
     "output_type": "display_data"
    }
   ],
   "source": [
    "eurusd_df[\"2015-01-01\":]['Spread'].hist(bins=250, range=(0, 15))"
   ]
  },
  {
   "cell_type": "code",
   "execution_count": 13,
   "metadata": {},
   "outputs": [
    {
     "data": {
      "text/plain": [
       "9.669600682396483"
      ]
     },
     "execution_count": 13,
     "metadata": {},
     "output_type": "execute_result"
    }
   ],
   "source": [
    "eurusd_df[\"2015-01-01\":]['Spread'].mean()"
   ]
  },
  {
   "cell_type": "code",
   "execution_count": 14,
   "metadata": {},
   "outputs": [
    {
     "data": {
      "text/plain": [
       "9.0"
      ]
     },
     "execution_count": 14,
     "metadata": {},
     "output_type": "execute_result"
    }
   ],
   "source": [
    "eurusd_df[\"2015-01-01\":]['Spread'].median()"
   ]
  }
 ],
 "metadata": {
  "language_info": {
   "codemirror_mode": {
    "name": "ipython",
    "version": 3
   },
   "file_extension": ".py",
   "mimetype": "text/x-python",
   "name": "python",
   "nbconvert_exporter": "python",
   "pygments_lexer": "ipython3",
   "version": 3
  }
 },
 "nbformat": 4,
 "nbformat_minor": 2
}
